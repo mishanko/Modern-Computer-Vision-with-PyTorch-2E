{
 "cells": [
  {
   "cell_type": "markdown",
   "metadata": {
    "colab_type": "text",
    "id": "view-in-github"
   },
   "source": [
    "<a href=\"https://colab.research.google.com/github/PacktPublishing/Modern-Computer-Vision-with-PyTorch-2E/blob/main/Chapter01/Feed_forward_propagation.ipynb\" target=\"_parent\"><img src=\"https://colab.research.google.com/assets/colab-badge.svg\" alt=\"Open In Colab\"/></a>"
   ]
  },
  {
   "cell_type": "markdown",
   "metadata": {
    "colab_type": "text",
    "id": "Uk4Fezbb9SZc"
   },
   "source": [
    "### Forward Propagation"
   ]
  },
  {
   "cell_type": "code",
   "execution_count": 13,
   "metadata": {
    "ExecuteTime": {
     "end_time": "2020-09-24T12:46:03.594770Z",
     "start_time": "2020-09-24T12:46:03.589643Z"
    },
    "colab": {},
    "colab_type": "code",
    "id": "VytiqjTQgwf4"
   },
   "outputs": [],
   "source": [
    "import numpy as np\n",
    "\n",
    "def feed_forward(inputs, outputs, weights):       \n",
    "    pre_hidden = np.dot(inputs, weights[0])+ weights[1]\n",
    "    print(pre_hidden)\n",
    "    hidden = 1 / (1+np.exp(-pre_hidden))\n",
    "    print(hidden)\n",
    "    \n",
    "    pred_out = np.dot(hidden, weights[2]) + weights[3]\n",
    "    print(pred_out)\n",
    "    mean_squared_error = np.mean(np.square(pred_out - outputs))\n",
    "    return mean_squared_error"
   ]
  },
  {
   "cell_type": "code",
   "execution_count": 14,
   "metadata": {},
   "outputs": [
    {
     "data": {
      "text/plain": [
       "[[[0.1, 0.2, 0.3], [0.4, 0.5, 0.6]],\n",
       " array([0.7, 0.8, 0.9]),\n",
       " array([0.7, 0.8, 0.9]),\n",
       " array([0.7])]"
      ]
     },
     "execution_count": 14,
     "metadata": {},
     "output_type": "execute_result"
    }
   ],
   "source": [
    "inputs = np.array([1, 1])\n",
    "outputs = np.array([0])\n",
    "weights = [[[0.1, 0.2, 0.3], [0.4, 0.5, 0.6]], np.array([0.7, 0.8, 0.9]), np.array([0.7, 0.8, 0.9]), np.array([0.7])]\n",
    "weights"
   ]
  },
  {
   "cell_type": "code",
   "execution_count": 15,
   "metadata": {},
   "outputs": [
    {
     "name": "stdout",
     "output_type": "stream",
     "text": [
      "[1.2 1.5 1.8]\n",
      "[0.76852478 0.81757448 0.85814894]\n",
      "[2.66436097]\n"
     ]
    },
    {
     "data": {
      "text/plain": [
       "np.float64(7.09881938375496)"
      ]
     },
     "execution_count": 15,
     "metadata": {},
     "output_type": "execute_result"
    }
   ],
   "source": [
    "mean_squared_error = feed_forward(inputs, outputs, weights)\n",
    "mean_squared_error"
   ]
  }
 ],
 "metadata": {
  "colab": {
   "collapsed_sections": [],
   "include_colab_link": true,
   "name": "Feed_forward_propagation.ipynb",
   "provenance": []
  },
  "kernelspec": {
   "display_name": ".venv",
   "language": "python",
   "name": "python3"
  },
  "language_info": {
   "codemirror_mode": {
    "name": "ipython",
    "version": 3
   },
   "file_extension": ".py",
   "mimetype": "text/x-python",
   "name": "python",
   "nbconvert_exporter": "python",
   "pygments_lexer": "ipython3",
   "version": "3.12.10"
  }
 },
 "nbformat": 4,
 "nbformat_minor": 0
}
