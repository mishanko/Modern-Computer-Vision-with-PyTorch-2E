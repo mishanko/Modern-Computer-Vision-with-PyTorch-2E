{
 "cells": [
  {
   "cell_type": "markdown",
   "metadata": {
    "colab_type": "text",
    "id": "view-in-github"
   },
   "source": [
    "<a href=\"https://colab.research.google.com/github/PacktPublishing/Modern-Computer-Vision-with-PyTorch-2E/blob/main/Chapter02/Building_a_neural_network_using_PyTorch_on_a_toy_dataset.ipynb\" target=\"_parent\"><img src=\"https://colab.research.google.com/assets/colab-badge.svg\" alt=\"Open In Colab\"/></a>"
   ]
  },
  {
   "cell_type": "code",
   "execution_count": 1,
   "metadata": {
    "ExecuteTime": {
     "end_time": "2020-09-25T19:37:27.437450Z",
     "start_time": "2020-09-25T19:37:27.143217Z"
    },
    "id": "e1gtGb85daHv"
   },
   "outputs": [],
   "source": [
    "import torch\n",
    "x = [[1,2],[3,4],[5,6],[7,8]]\n",
    "y = [[3],[7],[11],[15]]"
   ]
  },
  {
   "cell_type": "code",
   "execution_count": 2,
   "metadata": {
    "ExecuteTime": {
     "end_time": "2020-09-25T19:37:27.440914Z",
     "start_time": "2020-09-25T19:37:27.438557Z"
    },
    "id": "ZaYGlxtQdbd1"
   },
   "outputs": [],
   "source": [
    "X = torch.tensor(x).float()\n",
    "Y = torch.tensor(y).float()"
   ]
  },
  {
   "cell_type": "code",
   "execution_count": 3,
   "metadata": {
    "ExecuteTime": {
     "end_time": "2020-09-25T19:37:29.527549Z",
     "start_time": "2020-09-25T19:37:27.442428Z"
    },
    "id": "q5DT95H_dcwi"
   },
   "outputs": [],
   "source": [
    "device = 'cuda' if torch.cuda.is_available() else 'cpu'\n",
    "X = X.to(device)\n",
    "Y = Y.to(device)"
   ]
  },
  {
   "cell_type": "code",
   "execution_count": 4,
   "metadata": {
    "ExecuteTime": {
     "end_time": "2020-09-25T19:37:29.530750Z",
     "start_time": "2020-09-25T19:37:29.528696Z"
    },
    "id": "rHq7VwgDdeJ-"
   },
   "outputs": [],
   "source": [
    "import torch.nn as nn"
   ]
  },
  {
   "cell_type": "code",
   "execution_count": null,
   "metadata": {
    "ExecuteTime": {
     "end_time": "2020-09-25T19:37:29.535567Z",
     "start_time": "2020-09-25T19:37:29.531890Z"
    },
    "id": "clpig_05dfYK"
   },
   "outputs": [],
   "source": [
    "class MyNeuralNet(nn.Module):\n",
    "    def __init__(self):\n",
    "        super().__init__()\n",
    "        self.input_to_hidden_layer = nn.Linear(2,8)\n",
    "        self.hidden_layer_activation = nn.ReLU()\n",
    "        self.hidden_to_output_layer = nn.Linear(8,1)\n",
    "        \n",
    "    def forward(self, x):\n",
    "        x = self.input_to_hidden_layer(x)\n",
    "        x = self.hidden_layer_activation(x)\n",
    "        x = self.hidden_to_output_layer(x)\n",
    "        return x"
   ]
  },
  {
   "cell_type": "code",
   "execution_count": 7,
   "metadata": {},
   "outputs": [
    {
     "name": "stdout",
     "output_type": "stream",
     "text": [
      "Linear(in_features=2, out_features=8, bias=True)\n"
     ]
    }
   ],
   "source": [
    "print(nn.Linear(2, 8))"
   ]
  },
  {
   "cell_type": "code",
   "execution_count": 27,
   "metadata": {
    "ExecuteTime": {
     "end_time": "2020-09-25T19:37:29.540168Z",
     "start_time": "2020-09-25T19:37:29.536723Z"
    },
    "id": "McmLsQstdnxr"
   },
   "outputs": [],
   "source": [
    "mynet = MyNeuralNet().to(device)"
   ]
  },
  {
   "cell_type": "code",
   "execution_count": 28,
   "metadata": {},
   "outputs": [
    {
     "data": {
      "text/plain": [
       "Parameter containing:\n",
       "tensor([[-0.1089,  0.4127],\n",
       "        [-0.1827,  0.6983],\n",
       "        [ 0.5313,  0.4286],\n",
       "        [-0.1008,  0.5866],\n",
       "        [-0.4695, -0.2580],\n",
       "        [ 0.1172,  0.3709],\n",
       "        [ 0.6760,  0.6423],\n",
       "        [ 0.2402,  0.6407]], device='cuda:0', requires_grad=True)"
      ]
     },
     "execution_count": 28,
     "metadata": {},
     "output_type": "execute_result"
    }
   ],
   "source": [
    "mynet.input_to_hidden_layer.weight"
   ]
  },
  {
   "cell_type": "code",
   "execution_count": 29,
   "metadata": {},
   "outputs": [
    {
     "name": "stdout",
     "output_type": "stream",
     "text": [
      "Parameter containing:\n",
      "tensor([[-0.1089,  0.4127],\n",
      "        [-0.1827,  0.6983],\n",
      "        [ 0.5313,  0.4286],\n",
      "        [-0.1008,  0.5866],\n",
      "        [-0.4695, -0.2580],\n",
      "        [ 0.1172,  0.3709],\n",
      "        [ 0.6760,  0.6423],\n",
      "        [ 0.2402,  0.6407]], device='cuda:0', requires_grad=True)\n",
      "Parameter containing:\n",
      "tensor([ 0.5441,  0.4775, -0.6587,  0.4692,  0.5385, -0.1611, -0.2941, -0.2786],\n",
      "       device='cuda:0', requires_grad=True)\n",
      "Parameter containing:\n",
      "tensor([[ 0.2348, -0.0188,  0.2994, -0.1206,  0.3146,  0.2129, -0.0721, -0.2042]],\n",
      "       device='cuda:0', requires_grad=True)\n",
      "Parameter containing:\n",
      "tensor([0.2968], device='cuda:0', requires_grad=True)\n"
     ]
    }
   ],
   "source": [
    "for param in mynet.parameters():\n",
    "    print(param)"
   ]
  },
  {
   "cell_type": "code",
   "execution_count": 30,
   "metadata": {
    "ExecuteTime": {
     "end_time": "2020-09-25T19:37:29.544857Z",
     "start_time": "2020-09-25T19:37:29.541272Z"
    },
    "id": "8cyG-B-AdoBB"
   },
   "outputs": [],
   "source": [
    "loss_func = nn.MSELoss()"
   ]
  },
  {
   "cell_type": "code",
   "execution_count": 31,
   "metadata": {
    "ExecuteTime": {
     "end_time": "2020-09-25T19:37:29.554504Z",
     "start_time": "2020-09-25T19:37:29.546221Z"
    },
    "colab": {
     "base_uri": "https://localhost:8080/",
     "height": 34
    },
    "id": "QRTf8vdKdqmP",
    "outputId": "202d1e33-b0c3-4dcc-a760-c96bb5e94ea2"
   },
   "outputs": [
    {
     "name": "stdout",
     "output_type": "stream",
     "text": [
      "tensor(86.1315, device='cuda:0', grad_fn=<MseLossBackward0>)\n"
     ]
    }
   ],
   "source": [
    "_Y = mynet(X)\n",
    "loss_value = loss_func(_Y,Y)\n",
    "print(loss_value)"
   ]
  },
  {
   "cell_type": "code",
   "execution_count": 32,
   "metadata": {
    "ExecuteTime": {
     "end_time": "2020-09-25T19:37:29.558932Z",
     "start_time": "2020-09-25T19:37:29.555392Z"
    },
    "id": "dTOdsvFydsQK"
   },
   "outputs": [],
   "source": [
    "from torch.optim import SGD\n",
    "opt = SGD(mynet.parameters(), lr = 0.002)"
   ]
  },
  {
   "cell_type": "code",
   "execution_count": 33,
   "metadata": {
    "ExecuteTime": {
     "end_time": "2020-09-25T19:37:29.588488Z",
     "start_time": "2020-09-25T19:37:29.560089Z"
    },
    "id": "xyHCZwfYduGO"
   },
   "outputs": [],
   "source": [
    "loss_history = []\n",
    "for _ in range(200):\n",
    "    opt.zero_grad()\n",
    "    loss_value = loss_func(mynet(X),Y)\n",
    "    loss_value.backward()\n",
    "    opt.step()\n",
    "    loss_history.append(loss_value.item())"
   ]
  },
  {
   "cell_type": "code",
   "execution_count": 34,
   "metadata": {
    "ExecuteTime": {
     "end_time": "2020-09-25T19:37:29.838987Z",
     "start_time": "2020-09-25T19:37:29.589467Z"
    },
    "colab": {
     "base_uri": "https://localhost:8080/",
     "height": 312
    },
    "id": "DiO6I53udwvY",
    "outputId": "5dd07791-cb79-4f27-d5c4-2c6b17e9f614"
   },
   "outputs": [
    {
     "data": {
      "text/plain": [
       "Text(0, 0.5, 'loss value')"
      ]
     },
     "execution_count": 34,
     "metadata": {},
     "output_type": "execute_result"
    },
    {
     "data": {
      "image/png": "[encoded data removed]",
      "text/plain": [
       "<Figure size 640x480 with 1 Axes>"
      ]
     },
     "metadata": {},
     "output_type": "display_data"
    }
   ],
   "source": [
    "import matplotlib.pyplot as plt\n",
    "%matplotlib inline\n",
    "plt.plot(loss_history)\n",
    "plt.title('Loss variation over increasing epochs')\n",
    "plt.xlabel('epochs')\n",
    "plt.ylabel('loss value')"
   ]
  },
  {
   "cell_type": "code",
   "execution_count": null,
   "metadata": {
    "id": "jmfHZmKXdyND"
   },
   "outputs": [],
   "source": []
  }
 ],
 "metadata": {
  "colab": {
   "include_colab_link": true,
   "name": "Building_a_neural_network_using_PyTorch_on_a_toy_dataset.ipynb",
   "provenance": []
  },
  "kernelspec": {
   "display_name": ".venv",
   "language": "python",
   "name": "python3"
  },
  "language_info": {
   "codemirror_mode": {
    "name": "ipython",
    "version": 3
   },
   "file_extension": ".py",
   "mimetype": "text/x-python",
   "name": "python",
   "nbconvert_exporter": "python",
   "pygments_lexer": "ipython3",
   "version": "3.12.10"
  }
 },
 "nbformat": 4,
 "nbformat_minor": 0
}
